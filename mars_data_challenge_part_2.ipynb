{
 "cells": [
  {
   "cell_type": "code",
   "execution_count": 34,
   "metadata": {},
   "outputs": [],
   "source": [
    "from splinter import Browser\n",
    "from bs4 import BeautifulSoup as bs\n",
    "import time\n",
    "from webdriver_manager.chrome import ChromeDriverManager\n",
    "import pandas as pd\n",
    "import numpy as np\n",
    "import matplotlib.pyplot as plt"
   ]
  },
  {
   "cell_type": "code",
   "execution_count": 35,
   "metadata": {},
   "outputs": [
    {
     "name": "stderr",
     "output_type": "stream",
     "text": [
      "[WDM] - Downloading: 100%|██████████| 6.29M/6.29M [00:01<00:00, 6.51MB/s]\n"
     ]
    }
   ],
   "source": [
    "# Set up Splinter\n",
    "executable_path = {'executable_path': ChromeDriverManager().install()}\n",
    "browser = Browser('chrome', **executable_path, headless=False)"
   ]
  },
  {
   "cell_type": "code",
   "execution_count": 36,
   "metadata": {},
   "outputs": [],
   "source": [
    "# Visit data-class-mars-challenge.s3.amazonaws.com/Mars/index.html\n",
    "url = 'https://data-class-mars-challenge.s3.amazonaws.com/Mars/index.html'\n",
    "browser.visit(url)"
   ]
  },
  {
   "cell_type": "code",
   "execution_count": 37,
   "metadata": {},
   "outputs": [
    {
     "data": {
      "text/html": [
       "<div>\n",
       "<style scoped>\n",
       "    .dataframe tbody tr th:only-of-type {\n",
       "        vertical-align: middle;\n",
       "    }\n",
       "\n",
       "    .dataframe tbody tr th {\n",
       "        vertical-align: top;\n",
       "    }\n",
       "\n",
       "    .dataframe thead th {\n",
       "        text-align: right;\n",
       "    }\n",
       "</style>\n",
       "<table border=\"1\" class=\"dataframe\">\n",
       "  <thead>\n",
       "    <tr style=\"text-align: right;\">\n",
       "      <th></th>\n",
       "      <th>id</th>\n",
       "      <th>terrestrial_date</th>\n",
       "      <th>sol</th>\n",
       "      <th>ls</th>\n",
       "      <th>month</th>\n",
       "      <th>min_temp</th>\n",
       "      <th>pressure</th>\n",
       "    </tr>\n",
       "  </thead>\n",
       "  <tbody>\n",
       "    <tr>\n",
       "      <th>0</th>\n",
       "      <td>2</td>\n",
       "      <td>2012-08-16</td>\n",
       "      <td>10</td>\n",
       "      <td>155</td>\n",
       "      <td>6</td>\n",
       "      <td>-75.0</td>\n",
       "      <td>739.0</td>\n",
       "    </tr>\n",
       "    <tr>\n",
       "      <th>1</th>\n",
       "      <td>13</td>\n",
       "      <td>2012-08-17</td>\n",
       "      <td>11</td>\n",
       "      <td>156</td>\n",
       "      <td>6</td>\n",
       "      <td>-76.0</td>\n",
       "      <td>740.0</td>\n",
       "    </tr>\n",
       "    <tr>\n",
       "      <th>2</th>\n",
       "      <td>24</td>\n",
       "      <td>2012-08-18</td>\n",
       "      <td>12</td>\n",
       "      <td>156</td>\n",
       "      <td>6</td>\n",
       "      <td>-76.0</td>\n",
       "      <td>741.0</td>\n",
       "    </tr>\n",
       "    <tr>\n",
       "      <th>3</th>\n",
       "      <td>35</td>\n",
       "      <td>2012-08-19</td>\n",
       "      <td>13</td>\n",
       "      <td>157</td>\n",
       "      <td>6</td>\n",
       "      <td>-74.0</td>\n",
       "      <td>732.0</td>\n",
       "    </tr>\n",
       "    <tr>\n",
       "      <th>4</th>\n",
       "      <td>46</td>\n",
       "      <td>2012-08-20</td>\n",
       "      <td>14</td>\n",
       "      <td>157</td>\n",
       "      <td>6</td>\n",
       "      <td>-74.0</td>\n",
       "      <td>740.0</td>\n",
       "    </tr>\n",
       "    <tr>\n",
       "      <th>...</th>\n",
       "      <td>...</td>\n",
       "      <td>...</td>\n",
       "      <td>...</td>\n",
       "      <td>...</td>\n",
       "      <td>...</td>\n",
       "      <td>...</td>\n",
       "      <td>...</td>\n",
       "    </tr>\n",
       "    <tr>\n",
       "      <th>1862</th>\n",
       "      <td>1889</td>\n",
       "      <td>2018-02-23</td>\n",
       "      <td>1973</td>\n",
       "      <td>133</td>\n",
       "      <td>5</td>\n",
       "      <td>-78.0</td>\n",
       "      <td>730.0</td>\n",
       "    </tr>\n",
       "    <tr>\n",
       "      <th>1863</th>\n",
       "      <td>1892</td>\n",
       "      <td>2018-02-24</td>\n",
       "      <td>1974</td>\n",
       "      <td>134</td>\n",
       "      <td>5</td>\n",
       "      <td>-77.0</td>\n",
       "      <td>729.0</td>\n",
       "    </tr>\n",
       "    <tr>\n",
       "      <th>1864</th>\n",
       "      <td>1894</td>\n",
       "      <td>2018-02-25</td>\n",
       "      <td>1975</td>\n",
       "      <td>134</td>\n",
       "      <td>5</td>\n",
       "      <td>-76.0</td>\n",
       "      <td>729.0</td>\n",
       "    </tr>\n",
       "    <tr>\n",
       "      <th>1865</th>\n",
       "      <td>1893</td>\n",
       "      <td>2018-02-26</td>\n",
       "      <td>1976</td>\n",
       "      <td>135</td>\n",
       "      <td>5</td>\n",
       "      <td>-77.0</td>\n",
       "      <td>728.0</td>\n",
       "    </tr>\n",
       "    <tr>\n",
       "      <th>1866</th>\n",
       "      <td>1895</td>\n",
       "      <td>2018-02-27</td>\n",
       "      <td>1977</td>\n",
       "      <td>135</td>\n",
       "      <td>5</td>\n",
       "      <td>-77.0</td>\n",
       "      <td>727.0</td>\n",
       "    </tr>\n",
       "  </tbody>\n",
       "</table>\n",
       "<p>1867 rows × 7 columns</p>\n",
       "</div>"
      ],
      "text/plain": [
       "        id terrestrial_date   sol   ls  month  min_temp  pressure\n",
       "0        2       2012-08-16    10  155      6     -75.0     739.0\n",
       "1       13       2012-08-17    11  156      6     -76.0     740.0\n",
       "2       24       2012-08-18    12  156      6     -76.0     741.0\n",
       "3       35       2012-08-19    13  157      6     -74.0     732.0\n",
       "4       46       2012-08-20    14  157      6     -74.0     740.0\n",
       "...    ...              ...   ...  ...    ...       ...       ...\n",
       "1862  1889       2018-02-23  1973  133      5     -78.0     730.0\n",
       "1863  1892       2018-02-24  1974  134      5     -77.0     729.0\n",
       "1864  1894       2018-02-25  1975  134      5     -76.0     729.0\n",
       "1865  1893       2018-02-26  1976  135      5     -77.0     728.0\n",
       "1866  1895       2018-02-27  1977  135      5     -77.0     727.0\n",
       "\n",
       "[1867 rows x 7 columns]"
      ]
     },
     "execution_count": 37,
     "metadata": {},
     "output_type": "execute_result"
    }
   ],
   "source": [
    "# Scrape page into Pandas DataFrame\n",
    "html = browser.html\n",
    "df = pd.read_html(html)\n",
    "mars_df = df[0]\n",
    "\n",
    "mars_df"
   ]
  },
  {
   "cell_type": "code",
   "execution_count": 48,
   "metadata": {},
   "outputs": [],
   "source": [
    "# Close the browser\n",
    "browser.quit()"
   ]
  },
  {
   "cell_type": "code",
   "execution_count": 38,
   "metadata": {},
   "outputs": [
    {
     "data": {
      "text/plain": [
       "id                    int64\n",
       "terrestrial_date     object\n",
       "sol                   int64\n",
       "ls                    int64\n",
       "month                 int64\n",
       "min_temp            float64\n",
       "pressure            float64\n",
       "dtype: object"
      ]
     },
     "execution_count": 38,
     "metadata": {},
     "output_type": "execute_result"
    }
   ],
   "source": [
    "# Check data types\n",
    "mars_df.dtypes"
   ]
  },
  {
   "cell_type": "code",
   "execution_count": 39,
   "metadata": {},
   "outputs": [
    {
     "data": {
      "text/plain": [
       "id                           int64\n",
       "terrestrial_date    datetime64[ns]\n",
       "sol                          int64\n",
       "ls                           int64\n",
       "month                        int64\n",
       "min_temp                   float64\n",
       "pressure                   float64\n",
       "dtype: object"
      ]
     },
     "execution_count": 39,
     "metadata": {},
     "output_type": "execute_result"
    }
   ],
   "source": [
    "# Convert data types\n",
    "mars_df[\"terrestrial_date\"] = pd.to_datetime(mars_df[\"terrestrial_date\"])\n",
    "\n",
    "mars_df.dtypes"
   ]
  },
  {
   "cell_type": "code",
   "execution_count": 40,
   "metadata": {},
   "outputs": [
    {
     "data": {
      "text/plain": [
       "12"
      ]
     },
     "execution_count": 40,
     "metadata": {},
     "output_type": "execute_result"
    }
   ],
   "source": [
    "# How many months exist on Mars?\n",
    "len(mars_df[\"month\"].unique())"
   ]
  },
  {
   "cell_type": "markdown",
   "metadata": {},
   "source": [
    "12 months exist on Mars."
   ]
  },
  {
   "cell_type": "code",
   "execution_count": 41,
   "metadata": {},
   "outputs": [
    {
     "data": {
      "text/plain": [
       "1867"
      ]
     },
     "execution_count": 41,
     "metadata": {},
     "output_type": "execute_result"
    }
   ],
   "source": [
    "# How many Martian (and not Earth) days' worth of data exist in the scraped dataset?\n",
    "len(mars_df[\"sol\"].unique())"
   ]
  },
  {
   "cell_type": "markdown",
   "metadata": {},
   "source": [
    "1867 Martian days' worth of data exist in the scraped dataset."
   ]
  },
  {
   "cell_type": "code",
   "execution_count": 42,
   "metadata": {},
   "outputs": [
    {
     "data": {
      "image/png": "[encoded data removed]",
      "text/plain": [
       "<Figure size 432x288 with 1 Axes>"
      ]
     },
     "metadata": {
      "needs_background": "light"
     },
     "output_type": "display_data"
    }
   ],
   "source": [
    "# What are the coldest and the warmest months on Mars (at the location of Curiosity)?\n",
    "avg_temps = mars_df.groupby([\"month\"])[\"min_temp\"].mean()\n",
    "avg_temps.plot.bar(title='Average minimum daily temperatures of Mars months')\n",
    "plt.xlabel('Martian Month')\n",
    "plt.ylabel('Avg Minimum Temp (C)')\n",
    "plt.show()"
   ]
  },
  {
   "cell_type": "markdown",
   "metadata": {},
   "source": [
    "From the above figure, it appears that the third month is, on average, the coldest and the eighth month is the warmest."
   ]
  },
  {
   "cell_type": "code",
   "execution_count": 43,
   "metadata": {},
   "outputs": [
    {
     "data": {
      "image/png": "[encoded data removed]",
      "text/plain": [
       "<Figure size 432x288 with 1 Axes>"
      ]
     },
     "metadata": {
      "needs_background": "light"
     },
     "output_type": "display_data"
    }
   ],
   "source": [
    "# Which months have the lowest and the highest atmospheric pressure on Mars?\n",
    "avg_pressures = mars_df.groupby([\"month\"])[\"pressure\"].mean()\n",
    "avg_pressures.plot.bar(title='Averaging daily atmospheric pressure of Mars months')\n",
    "plt.xlabel(\"Martian Month\")\n",
    "plt.ylabel(\"Avg Pressure (Pa)\")\n",
    "\n",
    "plt.show()"
   ]
  },
  {
   "cell_type": "markdown",
   "metadata": {},
   "source": [
    "From the above figure, it appears that the sixth month has the lowest average atmospheric pressure, while the ninth month has the highest."
   ]
  },
  {
   "cell_type": "code",
   "execution_count": 44,
   "metadata": {},
   "outputs": [
    {
     "name": "stdout",
     "output_type": "stream",
     "text": [
      "2021 terrestrial (Earth) days exist in the dataset. This equates to 5.54 terrestrial years.\n"
     ]
    },
    {
     "data": {
      "image/png": "[encoded data removed]",
      "text/plain": [
       "<Figure size 432x288 with 1 Axes>"
      ]
     },
     "metadata": {
      "needs_background": "light"
     },
     "output_type": "display_data"
    }
   ],
   "source": [
    "# About how many terrestrial (Earth) days exist in a Martian year? That is, in the time that Mars circles the Sun once, how many days elapse on Earth?\n",
    "first_earth_date = mars_df['terrestrial_date'].min()\n",
    "last_earth_date = mars_df['terrestrial_date'].max()\n",
    "terrestrial_days = (last_earth_date - first_earth_date).days\n",
    "print(f\"{terrestrial_days} terrestrial (Earth) days exist in the dataset. This equates to {round(terrestrial_days/365, 2)} terrestrial years.\")\n",
    "\n",
    "temp_df = mars_df[['min_temp']]\n",
    "temp_df.plot(title=\"Mars Daily Minimum Temperature\")\n",
    "plt.ylabel('Minimum Temp (C)')\n",
    "plt.xlabel('Martian Days')\n",
    "\n",
    "plt.show()"
   ]
  },
  {
   "cell_type": "code",
   "execution_count": 45,
   "metadata": {},
   "outputs": [
    {
     "name": "stdout",
     "output_type": "stream",
     "text": [
      "673.6666666666666\n"
     ]
    }
   ],
   "source": [
    "# Number of terrestrial (Earth) days in a Martian year (approx. 3 Martian years in above figure)\n",
    "print(terrestrial_days/3)"
   ]
  },
  {
   "cell_type": "markdown",
   "metadata": {},
   "source": [
    "From the above figure, it appears that there is roughly 3 Martian years of data (maybe slightly under 3).\n",
    "Using this, we can estimate there to be approximately 673.7 terrestrial days in a Martian year."
   ]
  },
  {
   "cell_type": "code",
   "execution_count": 47,
   "metadata": {},
   "outputs": [],
   "source": [
    "# Export DataFrame to .csv\n",
    "mars_df.to_csv(\"Outputs/mars_data.csv\", index=False, header=True)"
   ]
  }
 ],
 "metadata": {
  "kernelspec": {
   "display_name": "Python 3.7.7 ('PythonData')",
   "language": "python",
   "name": "python3"
  },
  "language_info": {
   "codemirror_mode": {
    "name": "ipython",
    "version": 3
   },
   "file_extension": ".py",
   "mimetype": "text/x-python",
   "name": "python",
   "nbconvert_exporter": "python",
   "pygments_lexer": "ipython3",
   "version": "3.7.7"
  },
  "orig_nbformat": 4,
  "vscode": {
   "interpreter": {
    "hash": "a6ed810a5812ce062d1bde6632630242140a470f5dd0e2145e64a3c3897c05c6"
   }
  }
 },
 "nbformat": 4,
 "nbformat_minor": 2
}
